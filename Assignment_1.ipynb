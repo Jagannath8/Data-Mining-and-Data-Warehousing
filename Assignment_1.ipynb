{
  "nbformat": 4,
  "nbformat_minor": 0,
  "metadata": {
    "colab": {
      "name": "Assignment_1.ipynb",
      "provenance": [],
      "authorship_tag": "ABX9TyNA17HYFRLsc2j/EeWI6QbP",
      "include_colab_link": true
    },
    "kernelspec": {
      "name": "python3",
      "display_name": "Python 3"
    },
    "language_info": {
      "name": "python"
    }
  },
  "cells": [
    {
      "cell_type": "markdown",
      "metadata": {
        "id": "view-in-github",
        "colab_type": "text"
      },
      "source": [
        "<a href=\"https://colab.research.google.com/github/Jagannath8/Data-Mining-and-Data-Warehousing/blob/main/Assignment_1.ipynb\" target=\"_parent\"><img src=\"https://colab.research.google.com/assets/colab-badge.svg\" alt=\"Open In Colab\"/></a>"
      ]
    },
    {
      "cell_type": "markdown",
      "metadata": {
        "id": "dvqfhQFLGBBm"
      },
      "source": [
        "# **Assignment 1**\n",
        "\n",
        "\n",
        "---\n",
        "\n"
      ]
    },
    {
      "cell_type": "markdown",
      "metadata": {
        "id": "VVKoDs5UHalg"
      },
      "source": [
        "# Mean"
      ]
    },
    {
      "cell_type": "code",
      "metadata": {
        "colab": {
          "base_uri": "https://localhost:8080/"
        },
        "id": "jQpcCGQJGAF0",
        "outputId": "e882ce30-e115-45f1-909d-a3351fdde694"
      },
      "source": [
        "num = [1,15,34,5]\n",
        "n = len(num)\n",
        "  \n",
        "get_sum = sum(num)\n",
        "mean = get_sum / n\n",
        "  \n",
        "print(\"Mean : \" + str(mean))"
      ],
      "execution_count": 1,
      "outputs": [
        {
          "output_type": "stream",
          "name": "stdout",
          "text": [
            "Mean : 13.75\n"
          ]
        }
      ]
    },
    {
      "cell_type": "markdown",
      "metadata": {
        "id": "nLITH1fGHk44"
      },
      "source": [
        "# Median"
      ]
    },
    {
      "cell_type": "code",
      "metadata": {
        "colab": {
          "base_uri": "https://localhost:8080/"
        },
        "id": "VNc94pNuHTC0",
        "outputId": "f17a83ef-89c6-4342-d8b4-40b93c79b96e"
      },
      "source": [
        "n_num = [1, 2, 3, 4, 5]\n",
        "n = len(n_num)\n",
        "n_num.sort()\n",
        "  \n",
        "if n % 2 == 0:\n",
        "    median1 = n_num[n//2]\n",
        "    median2 = n_num[n//2 - 1]\n",
        "    median = (median1 + median2)/2\n",
        "else:\n",
        "    median = n_num[n//2]\n",
        "print(\"Median is: \" + str(median))"
      ],
      "execution_count": 2,
      "outputs": [
        {
          "output_type": "stream",
          "name": "stdout",
          "text": [
            "Median is: 3\n"
          ]
        }
      ]
    },
    {
      "cell_type": "markdown",
      "metadata": {
        "id": "m_rWyvaMH4mG"
      },
      "source": [
        "# Mode"
      ]
    },
    {
      "cell_type": "code",
      "metadata": {
        "colab": {
          "base_uri": "https://localhost:8080/"
        },
        "id": "5BH_gj_CH3rj",
        "outputId": "a22d1f9d-c306-4297-ae19-96b11b9f89fb"
      },
      "source": [
        "from collections import Counter\n",
        "\n",
        "n_num = [1, 2, 3, 4, 5, 5]\n",
        "n = len(n_num)\n",
        "  \n",
        "data = Counter(n_num)\n",
        "get_mode = dict(data)\n",
        "mode = [k for k, v in get_mode.items() if v == max(list(data.values()))]\n",
        "  \n",
        "if len(mode) == n:\n",
        "    get_mode = \"No mode found\"\n",
        "else:\n",
        "    get_mode = \"Mode is: \" + ', '.join(map(str, mode))\n",
        "      \n",
        "print(get_mode)"
      ],
      "execution_count": 4,
      "outputs": [
        {
          "output_type": "stream",
          "name": "stdout",
          "text": [
            "Mode is: 5\n"
          ]
        }
      ]
    },
    {
      "cell_type": "markdown",
      "metadata": {
        "id": "z3QNo2ZVIVsc"
      },
      "source": [
        "# Standard Deviation"
      ]
    },
    {
      "cell_type": "code",
      "metadata": {
        "colab": {
          "base_uri": "https://localhost:8080/"
        },
        "id": "3hg4e0uEIKqR",
        "outputId": "ae629a6e-2dbd-44d1-d51d-a071a0f67eb9"
      },
      "source": [
        "import statistics\n",
        "sample = [1, 2, 3, 4, 5]\n",
        "print(\"Standard Deviation of sample is % s \" % (statistics.stdev(sample)))"
      ],
      "execution_count": 6,
      "outputs": [
        {
          "output_type": "stream",
          "name": "stdout",
          "text": [
            "Standard Deviation of sample is 1.5811388300841898 \n"
          ]
        }
      ]
    },
    {
      "cell_type": "markdown",
      "metadata": {
        "id": "pFXNNu9II9lL"
      },
      "source": [
        "# Variance"
      ]
    },
    {
      "cell_type": "code",
      "metadata": {
        "colab": {
          "base_uri": "https://localhost:8080/"
        },
        "id": "6fsgUyVDI6pI",
        "outputId": "601f80c7-a3db-4e7d-fff5-4e5b3be760d3"
      },
      "source": [
        "import statistics\n",
        "sample = [1, 2, 3, 4, 5]\n",
        "print(\"Standard Deviation of sample is % s \" % (statistics.stdev(sample)))"
      ],
      "execution_count": 7,
      "outputs": [
        {
          "output_type": "stream",
          "name": "stdout",
          "text": [
            "Standard Deviation of sample is 1.5811388300841898 \n"
          ]
        }
      ]
    }
  ]
}