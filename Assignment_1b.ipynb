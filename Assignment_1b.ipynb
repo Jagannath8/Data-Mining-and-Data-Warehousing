{
  "nbformat": 4,
  "nbformat_minor": 0,
  "metadata": {
    "colab": {
      "name": "Assignment_1b.ipynb",
      "provenance": [],
      "authorship_tag": "ABX9TyO6ofptktBcpDxRNwXjkIZV",
      "include_colab_link": true
    },
    "kernelspec": {
      "name": "python3",
      "display_name": "Python 3"
    },
    "language_info": {
      "name": "python"
    }
  },
  "cells": [
    {
      "cell_type": "markdown",
      "metadata": {
        "id": "view-in-github",
        "colab_type": "text"
      },
      "source": [
        "<a href=\"https://colab.research.google.com/github/Jagannath8/Data-Mining-and-Data-Warehousing/blob/main/Assignment_1b.ipynb\" target=\"_parent\"><img src=\"https://colab.research.google.com/assets/colab-badge.svg\" alt=\"Open In Colab\"/></a>"
      ]
    },
    {
      "cell_type": "markdown",
      "metadata": {
        "id": "WTNHDgF4QG9O"
      },
      "source": [
        "# **Assignment 1b (Using Library Function)**"
      ]
    },
    {
      "cell_type": "markdown",
      "metadata": {
        "id": "teY6c_2nOE03"
      },
      "source": [
        "# Mean"
      ]
    },
    {
      "cell_type": "code",
      "metadata": {
        "colab": {
          "base_uri": "https://localhost:8080/"
        },
        "id": "ofbQsy8YM_IS",
        "outputId": "fab60bb0-e88b-41b6-c10e-cbd9f62e8075"
      },
      "source": [
        "import numpy as np\n",
        "num = [10,20,30,40,50,60,70,80]\n",
        "mean=numpy.mean(num)\n",
        "print(\"Mean:\", mean)"
      ],
      "execution_count": 10,
      "outputs": [
        {
          "output_type": "stream",
          "name": "stdout",
          "text": [
            "Mean: 45.0\n"
          ]
        }
      ]
    },
    {
      "cell_type": "markdown",
      "metadata": {
        "id": "-PnJFchfOG9X"
      },
      "source": [
        "# Median"
      ]
    },
    {
      "cell_type": "code",
      "metadata": {
        "colab": {
          "base_uri": "https://localhost:8080/"
        },
        "id": "xArPGjujNjqW",
        "outputId": "10346e68-8bf1-4575-d6ac-140bf946096b"
      },
      "source": [
        "num = [1, 2, 3, 4, 5]\n",
        "median=numpy.median(num)\n",
        "print(\"Median:\", median)"
      ],
      "execution_count": 11,
      "outputs": [
        {
          "output_type": "stream",
          "name": "stdout",
          "text": [
            "Median: 3.0\n"
          ]
        }
      ]
    },
    {
      "cell_type": "markdown",
      "metadata": {
        "id": "bCHiKcORO2qG"
      },
      "source": [
        "# Mode"
      ]
    },
    {
      "cell_type": "code",
      "metadata": {
        "colab": {
          "base_uri": "https://localhost:8080/"
        },
        "id": "Hzg4k7X8N5ZF",
        "outputId": "5afe5549-899d-4d58-f517-5612ac95cd49"
      },
      "source": [
        "from scipy import stats\n",
        "num = [10,20,30,40,50,60,70,80]\n",
        "mode=stats.mode(num)\n",
        "print(\"Mode:\", mode)"
      ],
      "execution_count": 12,
      "outputs": [
        {
          "output_type": "stream",
          "name": "stdout",
          "text": [
            "Mode: ModeResult(mode=array([10]), count=array([1]))\n"
          ]
        }
      ]
    },
    {
      "cell_type": "markdown",
      "metadata": {
        "id": "DC5rIOjjPsmI"
      },
      "source": [
        "# Standard Deviation"
      ]
    },
    {
      "cell_type": "code",
      "metadata": {
        "colab": {
          "base_uri": "https://localhost:8080/"
        },
        "id": "jiC3bFJcOQVS",
        "outputId": "7680668e-48bc-459a-b7cf-e82464d06a03"
      },
      "source": [
        "a = np.array([[14, 8, 11, 10], [7, 9, 10, 11], [10, 15, 5, 10]])\n",
        "std_deviation = np.std(a)\n",
        "print(\"Standard Deviation: \",std_deviation)"
      ],
      "execution_count": 14,
      "outputs": [
        {
          "output_type": "stream",
          "name": "stdout",
          "text": [
            "Standard Deviation:  2.614064523559687\n"
          ]
        }
      ]
    },
    {
      "cell_type": "markdown",
      "metadata": {
        "id": "uGSXNWBiPv00"
      },
      "source": [
        "# Variance"
      ]
    },
    {
      "cell_type": "code",
      "metadata": {
        "colab": {
          "base_uri": "https://localhost:8080/"
        },
        "id": "yWzr8FI7P7n8",
        "outputId": "d311de71-0db6-442c-e8f2-69af399e23a1"
      },
      "source": [
        "b = np.array([[14, 8, 11, 10], [7, 9, 10, 11], [10, 15, 5, 10]])\n",
        "variance = np.var(b)\n",
        "print(\"Standard Deviation: \",variance)"
      ],
      "execution_count": 16,
      "outputs": [
        {
          "output_type": "stream",
          "name": "stdout",
          "text": [
            "Standard Deviation:  6.833333333333333\n"
          ]
        }
      ]
    }
  ]
}